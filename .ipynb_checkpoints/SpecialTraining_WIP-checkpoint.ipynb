{
 "cells": [
  {
   "cell_type": "code",
   "execution_count": 11,
   "metadata": {},
   "outputs": [
    {
     "name": "stderr",
     "output_type": "stream",
     "text": [
      "Using TensorFlow backend.\n"
     ]
    }
   ],
   "source": [
    "from keras.models import Sequential\n",
    "from keras.layers import Dense\n",
    "from keras.optimizers import Adam"
   ]
  },
  {
   "cell_type": "code",
   "execution_count": null,
   "metadata": {},
   "outputs": [],
   "source": [
    "gamma = 0.95    # discount rate\n",
    "epsilon = 1.0  # exploration rate\n",
    "epsilon_min = 0.01\n",
    "epsilon_decay = 0.995\n",
    "learning_rate = 0.001\n",
    "model = build_model()"
   ]
  },
  {
   "cell_type": "code",
   "execution_count": null,
   "metadata": {},
   "outputs": [],
   "source": [
    "def build_model()\n",
    "    model = Sequential()\n",
    "    model.add(Dense(24, input_dim=self.state_size, activation='relu'))\n",
    "    model.add(Dense(24, activation='relu'))\n",
    "    model.add(Dense(self.action_size, activation='linear'))\n",
    "    model.compile(loss='mse',\n",
    "    optimizer=Adam(lr=self.learning_rate))\n",
    "    return model"
   ]
  },
  {
   "cell_type": "code",
   "execution_count": 2,
   "metadata": {},
   "outputs": [
    {
     "name": "stdout",
     "output_type": "stream",
     "text": [
      "reward : 0 Done :  False Info :  {'flag_get': False}\n",
      "reward : 1 Done :  False Info :  {'flag_get': False}\n",
      "reward : 2 Done :  False Info :  {'flag_get': False}\n",
      "reward : 1 Done :  False Info :  {'flag_get': False}\n",
      "reward : 2 Done :  False Info :  {'flag_get': False}\n",
      "reward : 3 Done :  False Info :  {'flag_get': False}\n",
      "reward : 5 Done :  False Info :  {'flag_get': False}\n",
      "reward : 6 Done :  False Info :  {'flag_get': False}\n",
      "reward : 7 Done :  False Info :  {'flag_get': False}\n",
      "reward : 6 Done :  False Info :  {'flag_get': False}\n",
      "reward : 7 Done :  False Info :  {'flag_get': False}\n",
      "reward : 7 Done :  False Info :  {'flag_get': False}\n",
      "reward : 6 Done :  False Info :  {'flag_get': False}\n",
      "reward : 6 Done :  False Info :  {'flag_get': False}\n",
      "reward : 5 Done :  False Info :  {'flag_get': False}\n",
      "reward : 7 Done :  False Info :  {'flag_get': False}\n",
      "reward : 7 Done :  False Info :  {'flag_get': False}\n",
      "reward : 6 Done :  False Info :  {'flag_get': False}\n",
      "reward : 5 Done :  False Info :  {'flag_get': False}\n",
      "reward : 1 Done :  False Info :  {'flag_get': False}\n",
      "reward : 2 Done :  False Info :  {'flag_get': False}\n",
      "reward : 3 Done :  False Info :  {'flag_get': False}\n",
      "reward : 3 Done :  False Info :  {'flag_get': False}\n",
      "reward : 3 Done :  False Info :  {'flag_get': False}\n",
      "reward : 3 Done :  False Info :  {'flag_get': False}\n",
      "reward : 3 Done :  False Info :  {'flag_get': False}\n",
      "reward : 5 Done :  False Info :  {'flag_get': False}\n",
      "reward : 7 Done :  False Info :  {'flag_get': False}\n",
      "reward : 7 Done :  False Info :  {'flag_get': False}\n",
      "reward : 7 Done :  False Info :  {'flag_get': False}\n",
      "reward : 8 Done :  False Info :  {'flag_get': False}\n",
      "reward : 8 Done :  False Info :  {'flag_get': False}\n",
      "reward : 7 Done :  False Info :  {'flag_get': False}\n",
      "reward : 7 Done :  False Info :  {'flag_get': False}\n",
      "reward : 6 Done :  False Info :  {'flag_get': False}\n",
      "reward : 7 Done :  False Info :  {'flag_get': False}\n",
      "reward : 6 Done :  False Info :  {'flag_get': False}\n",
      "reward : 8 Done :  False Info :  {'flag_get': False}\n",
      "reward : 9 Done :  False Info :  {'flag_get': False}\n",
      "reward : 8 Done :  False Info :  {'flag_get': False}\n",
      "reward : 11 Done :  False Info :  {'flag_get': False}\n",
      "reward : 12 Done :  False Info :  {'flag_get': False}\n",
      "reward : 10 Done :  False Info :  {'flag_get': False}\n",
      "reward : -15 Done :  False Info :  {'flag_get': False}\n",
      "reward : 0 Done :  False Info :  {'flag_get': False}\n",
      "reward : 2 Done :  False Info :  {'flag_get': False}\n",
      "reward : 2 Done :  False Info :  {'flag_get': False}\n",
      "reward : 1 Done :  False Info :  {'flag_get': False}\n",
      "reward : 2 Done :  False Info :  {'flag_get': False}\n",
      "reward : 3 Done :  False Info :  {'flag_get': False}\n",
      "reward : 4 Done :  False Info :  {'flag_get': False}\n",
      "reward : 4 Done :  False Info :  {'flag_get': False}\n",
      "reward : 5 Done :  False Info :  {'flag_get': False}\n",
      "reward : 4 Done :  False Info :  {'flag_get': False}\n",
      "reward : 7 Done :  False Info :  {'flag_get': False}\n",
      "reward : 8 Done :  False Info :  {'flag_get': False}\n",
      "reward : 7 Done :  False Info :  {'flag_get': False}\n",
      "reward : 6 Done :  False Info :  {'flag_get': False}\n",
      "reward : 6 Done :  False Info :  {'flag_get': False}\n",
      "reward : 7 Done :  False Info :  {'flag_get': False}\n",
      "reward : 6 Done :  False Info :  {'flag_get': False}\n",
      "reward : 5 Done :  False Info :  {'flag_get': False}\n",
      "reward : 6 Done :  False Info :  {'flag_get': False}\n",
      "reward : 6 Done :  False Info :  {'flag_get': False}\n",
      "reward : 7 Done :  False Info :  {'flag_get': False}\n",
      "reward : 7 Done :  False Info :  {'flag_get': False}\n",
      "reward : 7 Done :  False Info :  {'flag_get': False}\n",
      "reward : 7 Done :  False Info :  {'flag_get': False}\n",
      "reward : 6 Done :  False Info :  {'flag_get': False}\n",
      "reward : 7 Done :  False Info :  {'flag_get': False}\n",
      "reward : 7 Done :  False Info :  {'flag_get': False}\n",
      "reward : 7 Done :  False Info :  {'flag_get': False}\n",
      "reward : 7 Done :  False Info :  {'flag_get': False}\n",
      "reward : 7 Done :  False Info :  {'flag_get': False}\n",
      "reward : 7 Done :  False Info :  {'flag_get': False}\n",
      "reward : 7 Done :  False Info :  {'flag_get': False}\n",
      "reward : 7 Done :  False Info :  {'flag_get': False}\n",
      "reward : 7 Done :  False Info :  {'flag_get': False}\n",
      "reward : 6 Done :  False Info :  {'flag_get': False}\n",
      "reward : 7 Done :  False Info :  {'flag_get': False}\n",
      "reward : 5 Done :  False Info :  {'flag_get': False}\n",
      "reward : 6 Done :  False Info :  {'flag_get': False}\n",
      "reward : 6 Done :  False Info :  {'flag_get': False}\n",
      "reward : 6 Done :  False Info :  {'flag_get': False}\n",
      "reward : 8 Done :  False Info :  {'flag_get': False}\n",
      "reward : 10 Done :  False Info :  {'flag_get': False}\n",
      "reward : 12 Done :  False Info :  {'flag_get': False}\n",
      "reward : 4 Done :  False Info :  {'flag_get': False}\n",
      "reward : -1 Done :  False Info :  {'flag_get': False}\n",
      "reward : -1 Done :  False Info :  {'flag_get': False}\n",
      "reward : -1 Done :  False Info :  {'flag_get': False}\n",
      "reward : 1 Done :  False Info :  {'flag_get': False}\n",
      "reward : 2 Done :  False Info :  {'flag_get': False}\n",
      "reward : 3 Done :  False Info :  {'flag_get': False}\n",
      "reward : 5 Done :  False Info :  {'flag_get': False}\n",
      "reward : 7 Done :  False Info :  {'flag_get': False}\n",
      "reward : 6 Done :  False Info :  {'flag_get': False}\n",
      "reward : 7 Done :  False Info :  {'flag_get': False}\n",
      "reward : 5 Done :  False Info :  {'flag_get': False}\n",
      "reward : 7 Done :  False Info :  {'flag_get': False}\n"
     ]
    },
    {
     "ename": "ValueError",
     "evalue": "env has already been closed.",
     "output_type": "error",
     "traceback": [
      "\u001b[0;31m---------------------------------------------------------------------------\u001b[0m",
      "\u001b[0;31mValueError\u001b[0m                                Traceback (most recent call last)",
      "\u001b[0;32m<ipython-input-2-b16ecdda5f53>\u001b[0m in \u001b[0;36m<module>\u001b[0;34m()\u001b[0m\n\u001b[1;32m     15\u001b[0m     \u001b[0menv\u001b[0m\u001b[0;34m.\u001b[0m\u001b[0mclose\u001b[0m\u001b[0;34m(\u001b[0m\u001b[0;34m)\u001b[0m\u001b[0;34m\u001b[0m\u001b[0m\n\u001b[1;32m     16\u001b[0m \u001b[0;32mfinally\u001b[0m\u001b[0;34m:\u001b[0m\u001b[0;34m\u001b[0m\u001b[0m\n\u001b[0;32m---> 17\u001b[0;31m     \u001b[0menv\u001b[0m\u001b[0;34m.\u001b[0m\u001b[0mclose\u001b[0m\u001b[0;34m(\u001b[0m\u001b[0;34m)\u001b[0m\u001b[0;34m\u001b[0m\u001b[0m\n\u001b[0m",
      "\u001b[0;32m~/gym/gym/core.py\u001b[0m in \u001b[0;36mclose\u001b[0;34m(self)\u001b[0m\n\u001b[1;32m    275\u001b[0m     \u001b[0;32mdef\u001b[0m \u001b[0mclose\u001b[0m\u001b[0;34m(\u001b[0m\u001b[0mself\u001b[0m\u001b[0;34m)\u001b[0m\u001b[0;34m:\u001b[0m\u001b[0;34m\u001b[0m\u001b[0m\n\u001b[1;32m    276\u001b[0m         \u001b[0;32mif\u001b[0m \u001b[0mself\u001b[0m\u001b[0;34m.\u001b[0m\u001b[0menv\u001b[0m\u001b[0;34m:\u001b[0m\u001b[0;34m\u001b[0m\u001b[0m\n\u001b[0;32m--> 277\u001b[0;31m             \u001b[0;32mreturn\u001b[0m \u001b[0mself\u001b[0m\u001b[0;34m.\u001b[0m\u001b[0menv\u001b[0m\u001b[0;34m.\u001b[0m\u001b[0mclose\u001b[0m\u001b[0;34m(\u001b[0m\u001b[0;34m)\u001b[0m\u001b[0;34m\u001b[0m\u001b[0m\n\u001b[0m\u001b[1;32m    278\u001b[0m \u001b[0;34m\u001b[0m\u001b[0m\n\u001b[1;32m    279\u001b[0m     \u001b[0;32mdef\u001b[0m \u001b[0mseed\u001b[0m\u001b[0;34m(\u001b[0m\u001b[0mself\u001b[0m\u001b[0;34m,\u001b[0m \u001b[0mseed\u001b[0m\u001b[0;34m=\u001b[0m\u001b[0;32mNone\u001b[0m\u001b[0;34m)\u001b[0m\u001b[0;34m:\u001b[0m\u001b[0;34m\u001b[0m\u001b[0m\n",
      "\u001b[0;32m~/gym/gym/core.py\u001b[0m in \u001b[0;36mclose\u001b[0;34m(self)\u001b[0m\n\u001b[1;32m    275\u001b[0m     \u001b[0;32mdef\u001b[0m \u001b[0mclose\u001b[0m\u001b[0;34m(\u001b[0m\u001b[0mself\u001b[0m\u001b[0;34m)\u001b[0m\u001b[0;34m:\u001b[0m\u001b[0;34m\u001b[0m\u001b[0m\n\u001b[1;32m    276\u001b[0m         \u001b[0;32mif\u001b[0m \u001b[0mself\u001b[0m\u001b[0;34m.\u001b[0m\u001b[0menv\u001b[0m\u001b[0;34m:\u001b[0m\u001b[0;34m\u001b[0m\u001b[0m\n\u001b[0;32m--> 277\u001b[0;31m             \u001b[0;32mreturn\u001b[0m \u001b[0mself\u001b[0m\u001b[0;34m.\u001b[0m\u001b[0menv\u001b[0m\u001b[0;34m.\u001b[0m\u001b[0mclose\u001b[0m\u001b[0;34m(\u001b[0m\u001b[0;34m)\u001b[0m\u001b[0;34m\u001b[0m\u001b[0m\n\u001b[0m\u001b[1;32m    278\u001b[0m \u001b[0;34m\u001b[0m\u001b[0m\n\u001b[1;32m    279\u001b[0m     \u001b[0;32mdef\u001b[0m \u001b[0mseed\u001b[0m\u001b[0;34m(\u001b[0m\u001b[0mself\u001b[0m\u001b[0;34m,\u001b[0m \u001b[0mseed\u001b[0m\u001b[0;34m=\u001b[0m\u001b[0;32mNone\u001b[0m\u001b[0;34m)\u001b[0m\u001b[0;34m:\u001b[0m\u001b[0;34m\u001b[0m\u001b[0m\n",
      "\u001b[0;32m/usr/local/lib/python3.6/dist-packages/nes_py/nes_env.py\u001b[0m in \u001b[0;36mclose\u001b[0;34m(self)\u001b[0m\n\u001b[1;32m    329\u001b[0m         \u001b[0;31m# make sure the environment hasn't already been closed\u001b[0m\u001b[0;34m\u001b[0m\u001b[0;34m\u001b[0m\u001b[0m\n\u001b[1;32m    330\u001b[0m         \u001b[0;32mif\u001b[0m \u001b[0mself\u001b[0m\u001b[0;34m.\u001b[0m\u001b[0m_env\u001b[0m \u001b[0;32mis\u001b[0m \u001b[0;32mNone\u001b[0m\u001b[0;34m:\u001b[0m\u001b[0;34m\u001b[0m\u001b[0m\n\u001b[0;32m--> 331\u001b[0;31m             \u001b[0;32mraise\u001b[0m \u001b[0mValueError\u001b[0m\u001b[0;34m(\u001b[0m\u001b[0;34m'env has already been closed.'\u001b[0m\u001b[0;34m)\u001b[0m\u001b[0;34m\u001b[0m\u001b[0m\n\u001b[0m\u001b[1;32m    332\u001b[0m         \u001b[0;31m# purge the environment from C++ memory\u001b[0m\u001b[0;34m\u001b[0m\u001b[0;34m\u001b[0m\u001b[0m\n\u001b[1;32m    333\u001b[0m         \u001b[0m_LIB\u001b[0m\u001b[0;34m.\u001b[0m\u001b[0mNESEnv_close\u001b[0m\u001b[0;34m(\u001b[0m\u001b[0mself\u001b[0m\u001b[0;34m.\u001b[0m\u001b[0m_env\u001b[0m\u001b[0;34m)\u001b[0m\u001b[0;34m\u001b[0m\u001b[0m\n",
      "\u001b[0;31mValueError\u001b[0m: env has already been closed."
     ]
    }
   ],
   "source": [
    "from nes_py.wrappers import BinarySpaceToDiscreteSpaceEnv\n",
    "import gym_super_mario_bros\n",
    "from gym_super_mario_bros.actions import SIMPLE_MOVEMENT\n",
    "env = gym_super_mario_bros.make('SuperMarioBros-v0')\n",
    "env = BinarySpaceToDiscreteSpaceEnv(env, SIMPLE_MOVEMENT)\n",
    "\n",
    "done = True\n",
    "try:\n",
    "    for step in range(100):\n",
    "        if done:\n",
    "            state = env.reset()\n",
    "        state, reward, done, info = env.step(env.action_space.sample())\n",
    "        env.render()\n",
    "        print('reward :',reward,'Done : ',done,'Info : ',info)\n",
    "    env.close()\n",
    "finally:\n",
    "    env.close()\n"
   ]
  },
  {
   "cell_type": "code",
   "execution_count": 5,
   "metadata": {},
   "outputs": [
    {
     "data": {
      "text/plain": [
       "0"
      ]
     },
     "execution_count": 5,
     "metadata": {},
     "output_type": "execute_result"
    }
   ],
   "source": [
    "env.action_space.sample()\n"
   ]
  },
  {
   "cell_type": "code",
   "execution_count": 6,
   "metadata": {},
   "outputs": [
    {
     "ename": "NameError",
     "evalue": "name 'getch' is not defined",
     "output_type": "error",
     "traceback": [
      "\u001b[0;31m---------------------------------------------------------------------------\u001b[0m",
      "\u001b[0;31mNameError\u001b[0m                                 Traceback (most recent call last)",
      "\u001b[0;32m<ipython-input-6-ade5e39cba3d>\u001b[0m in \u001b[0;36m<module>\u001b[0;34m()\u001b[0m\n\u001b[1;32m      2\u001b[0m \u001b[0;32mfor\u001b[0m \u001b[0m_\u001b[0m \u001b[0;32min\u001b[0m \u001b[0mrange\u001b[0m\u001b[0;34m(\u001b[0m\u001b[0;36m500\u001b[0m\u001b[0;34m)\u001b[0m\u001b[0;34m:\u001b[0m\u001b[0;34m\u001b[0m\u001b[0m\n\u001b[1;32m      3\u001b[0m     \u001b[0menv\u001b[0m\u001b[0;34m.\u001b[0m\u001b[0mrender\u001b[0m\u001b[0;34m(\u001b[0m\u001b[0;34m)\u001b[0m\u001b[0;34m\u001b[0m\u001b[0m\n\u001b[0;32m----> 4\u001b[0;31m     \u001b[0menv\u001b[0m\u001b[0;34m.\u001b[0m\u001b[0mstep\u001b[0m\u001b[0;34m(\u001b[0m\u001b[0mgetch\u001b[0m\u001b[0;34m.\u001b[0m\u001b[0mgetch\u001b[0m\u001b[0;34m(\u001b[0m\u001b[0;34m)\u001b[0m\u001b[0;34m)\u001b[0m\u001b[0;34m\u001b[0m\u001b[0m\n\u001b[0m\u001b[1;32m      5\u001b[0m \u001b[0menv\u001b[0m\u001b[0;34m.\u001b[0m\u001b[0mclose\u001b[0m\u001b[0;34m(\u001b[0m\u001b[0;34m)\u001b[0m\u001b[0;34m\u001b[0m\u001b[0m\n",
      "\u001b[0;31mNameError\u001b[0m: name 'getch' is not defined"
     ]
    }
   ],
   "source": []
  },
  {
   "cell_type": "code",
   "execution_count": null,
   "metadata": {},
   "outputs": [],
   "source": []
  }
 ],
 "metadata": {
  "kernelspec": {
   "display_name": "Python 3",
   "language": "python",
   "name": "python3"
  },
  "language_info": {
   "codemirror_mode": {
    "name": "ipython",
    "version": 3
   },
   "file_extension": ".py",
   "mimetype": "text/x-python",
   "name": "python",
   "nbconvert_exporter": "python",
   "pygments_lexer": "ipython3",
   "version": "3.6.5"
  }
 },
 "nbformat": 4,
 "nbformat_minor": 2
}
