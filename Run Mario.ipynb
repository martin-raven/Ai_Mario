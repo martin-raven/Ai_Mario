{
 "cells": [
  {
   "cell_type": "code",
   "execution_count": 1,
   "metadata": {},
   "outputs": [
    {
     "name": "stdout",
     "output_type": "stream",
     "text": [
      "\u001b[33mWARN: gym.spaces.Box autodetected dtype as <class 'numpy.uint8'>. Please provide explicit dtype.\u001b[0m\n",
      "\u001b[33mWARN: gym.spaces.Box autodetected dtype as <class 'numpy.float32'>. Please provide explicit dtype.\u001b[0m\n",
      "Distance: 2024\n",
      "Distance: 2024\n",
      "Distance: 2024\n",
      "Distance: 3252\n"
     ]
    }
   ],
   "source": [
    "import neat\n",
    "import pickle\n",
    "import gym, ppaquette_gym_super_mario\n",
    "import visualize\n",
    "import gzip\n",
    "import neat.genome\n",
    "\n",
    "ACTIONS = [\n",
    "    [0, 0, 0, 1, 0, 1],\n",
    "    [0, 0, 0, 1, 1, 1],\n",
    "]\n",
    "# FILENAME = \"./Files/gen_2284\"\n",
    "CONFIG = 'config'\n",
    "\n",
    "\n",
    "def main(config_file, file, level=\"1-1\"):\n",
    "    # with gzip.open(FILENAME) as f:\n",
    "    #   config = pickle.load(f)[1]\n",
    "    # print(str(config.genome_type.size))\n",
    "    config = neat.Config(neat.DefaultGenome, neat.DefaultReproduction,\n",
    "                         neat.DefaultSpeciesSet, neat.DefaultStagnation,\n",
    "                         config_file)\n",
    "    genome = pickle.load(open(file, 'rb'))\n",
    "    env = gym.make('ppaquette/SuperMarioBros-'+level+'-Tiles-v0')\n",
    "    net = neat.nn.FeedForwardNetwork.create(genome, config)\n",
    "    info = {'distance': 0}\n",
    "    try:\n",
    "        while info['distance'] != 3252:\n",
    "            state = env.reset()\n",
    "            done = False\n",
    "            i = 0\n",
    "            old = 40\n",
    "            while not done:\n",
    "                state = state.reshape(208)\n",
    "                output = net.activate(state)\n",
    "                ind = output.index(max(output))\n",
    "                s, reward, done, info = env.step(ACTIONS[ind])\n",
    "                state = s\n",
    "                i += 1\n",
    "                if i % 50 == 0:\n",
    "                    if old == info['distance']:\n",
    "                        break\n",
    "\n",
    "                    else:\n",
    "                        old = info['distance']\n",
    "            print(\"Distance: {}\".format(info['distance']))\n",
    "        env.close()\n",
    "    except KeyboardInterrupt:\n",
    "        env.close()\n",
    "        exit()\n",
    "\n",
    "\n",
    "if __name__ == \"__main__\":\n",
    "    main(CONFIG, \"finisher.pkl\")"
   ]
  },
  {
   "cell_type": "code",
   "execution_count": null,
   "metadata": {},
   "outputs": [],
   "source": []
  }
 ],
 "metadata": {
  "kernelspec": {
   "display_name": "Python 3",
   "language": "python",
   "name": "python3"
  },
  "language_info": {
   "codemirror_mode": {
    "name": "ipython",
    "version": 3
   },
   "file_extension": ".py",
   "mimetype": "text/x-python",
   "name": "python",
   "nbconvert_exporter": "python",
   "pygments_lexer": "ipython3",
   "version": "3.6.5"
  }
 },
 "nbformat": 4,
 "nbformat_minor": 2
}
